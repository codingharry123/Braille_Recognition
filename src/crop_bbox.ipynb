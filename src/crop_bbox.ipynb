{
 "cells": [
  {
   "cell_type": "code",
   "execution_count": 31,
   "id": "31307f7a",
   "metadata": {},
   "outputs": [],
   "source": [
    "import os\n",
    "import json\n",
    "from glob import glob\n",
    "from PIL import Image\n",
    "\n",
    "import pandas as pd\n",
    "import numpy as np\n",
    "import cv2\n",
    "\n",
    "from utils import read_DSBI_annotation, transform_angelina_label, get_alphabet_map"
   ]
  },
  {
   "cell_type": "code",
   "execution_count": 2,
   "id": "f6c6b893",
   "metadata": {},
   "outputs": [],
   "source": [
    "def label_to_one_hot(label, num_classes=6):\n",
    "    one_hot = np.zeros(num_classes)\n",
    "    for i in range(len(label)):\n",
    "        one_hot[int(label[i]) - 1] = 1\n",
    "    # join as str\n",
    "    one_hot = \"\".join([str(int(i)) for i in one_hot])\n",
    "    return one_hot"
   ]
  },
  {
   "cell_type": "code",
   "execution_count": 3,
   "id": "292d16ba",
   "metadata": {},
   "outputs": [],
   "source": [
    "def crop_dsbi_bbox(target_dir=\"./cropped_images/braille_classification_DSBI\"):\n",
    "\n",
    "    if not os.path.exists(target_dir):\n",
    "        os.makedirs(target_dir)\n",
    "    path = os.getcwd()\n",
    "    images_paths = glob(os.path.join(path, \"../dataset/DSBI/**/*recto.jpg\"))\n",
    "    labels_paths = glob(os.path.join(path, \"../dataset/DSBI/**/*recto.txt\"))\n",
    "\n",
    "    os.makedirs(target_dir, exist_ok=True)\n",
    "\n",
    "    for i, (image_path) in enumerate(images_paths):\n",
    "        label_path = image_path.replace(\".jpg\", \".txt\")\n",
    "        image_name = os.path.basename(image_path)\n",
    "        image = cv2.imread(image_path)\n",
    "        width, height = image.shape[1], image.shape[0]\n",
    "        list_rects = read_DSBI_annotation(label_path, width, height, 0.3, False)\n",
    "\n",
    "        for rect in list_rects:\n",
    "            left, top, right, bottom, label = rect\n",
    "            cropped_image = image[int(top) : int(bottom), int(left) : int(right)]\n",
    "            im = cv2.cvtColor(cropped_image, cv2.COLOR_BGR2RGB)\n",
    "            im = Image.fromarray(im)\n",
    "            cropped_image_name = image_name.replace(\".jpg\", f\"_{label}.jpg\")\n",
    "            im.save(os.path.join(target_dir, cropped_image_name))\n"
   ]
  },
  {
   "cell_type": "code",
   "execution_count": 29,
   "id": "f1cb8884",
   "metadata": {},
   "outputs": [],
   "source": [
    "crop_dsbi_bbox()"
   ]
  },
  {
   "cell_type": "code",
   "execution_count": 8,
   "id": "7f088f99",
   "metadata": {},
   "outputs": [],
   "source": [
    "\n",
    "def crop_angelina_bbox(\n",
    "    img_path, bbox_path, target_dir=\"./cropped_images/braille_classification_angelina\"\n",
    "):\n",
    "    \"\"\"crop bounding box and save as cropped images with label name\"\"\"\n",
    "    # read image\n",
    "    img = cv2.imread(img_path)\n",
    "    # read bbox\n",
    "    with open(bbox_path, \"r\") as f:\n",
    "        bbox = json.load(f)\n",
    "    # crop and save\n",
    "    for shape in bbox[\"shapes\"]:\n",
    "        points = np.array(shape[\"points\"])\n",
    "        x1 = int(points[:, 0].min())\n",
    "        y1 = int(points[:, 1].min())\n",
    "        x2 = int(points[:, 0].max())\n",
    "        y2 = int(points[:, 1].max())\n",
    "        # crop\n",
    "        crop_img = img[y1:y2, x1:x2]\n",
    "        # label\n",
    "        label = transform_angelina_label(shape[\"label\"])\n",
    "        label = label_to_one_hot(label)\n",
    "\n",
    "        # make dir for output\n",
    "        if not os.path.exists(target_dir):\n",
    "            os.makedirs(target_dir)\n",
    "        # img_path basename + coordinate + label\n",
    "        save_path = os.path.join(\n",
    "            target_dir,\n",
    "            os.path.basename(img_path).replace(\".jpg\", \"\")\n",
    "            + \"_\"\n",
    "            + str(x1)\n",
    "            + \"_\"\n",
    "            + str(y1)\n",
    "            + \"_\"\n",
    "            + str(x2)\n",
    "            + \"_\"\n",
    "            + str(y2)\n",
    "            + \"_\"\n",
    "            + label\n",
    "            + \".jpg\",\n",
    "        )\n",
    "        try:\n",
    "            cv2.imwrite(save_path, crop_img)\n",
    "        except:\n",
    "            print(\"error: \", save_path)\n",
    "            continue\n"
   ]
  },
  {
   "cell_type": "code",
   "execution_count": 25,
   "id": "7cae7394",
   "metadata": {},
   "outputs": [],
   "source": [
    "def get_unique_image_names(path):\n",
    "    \"\"\"get unique image names from path\"\"\"\n",
    "    images = glob(os.path.join(path, \"*.jpg\"))\n",
    "    unique_names = set()\n",
    "    for image in images:\n",
    "        #print(image)\n",
    "        name = os.path.basename(image).split(\".jpg\")[0]\n",
    "        #print(name)\n",
    "        unique_names.add(name)\n",
    "    return unique_names"
   ]
  },
  {
   "cell_type": "code",
   "execution_count": 27,
   "id": "8baa9887",
   "metadata": {},
   "outputs": [
    {
     "name": "stdout",
     "output_type": "stream",
     "text": [
      "СС\n",
      "СС\n",
      "СС\n",
      "СС\n",
      "СС\n",
      "СС\n",
      "СС\n",
      "СС\n",
      "СС\n",
      "СС\n",
      "error:  ./cropped_images/braille_classification_angelina\\16208094668749062583560245145727.labeled_261_-1_279_32_001111.jpg\n"
     ]
    }
   ],
   "source": [
    "path = \"../dataset/AngelinaDataset/data\"\n",
    "unique_names = get_unique_image_names(path)\n",
    "for name in unique_names:\n",
    "    # get all images with the same name\n",
    "    images = glob(os.path.join(path, name + \"*.jpg\"))\n",
    "    # get all json files with the same name\n",
    "    jsons = glob(os.path.join(path, name + \"*.json\"))\n",
    "    # if there is no json file, continue\n",
    "    if len(jsons) == 0:\n",
    "        continue\n",
    "    # get the first json file\n",
    "    json_path = jsons[0]\n",
    "    # get the first image file\n",
    "    img_path = images[0]\n",
    "    # crop the bounding box and save as cropped images with label name\n",
    "    crop_angelina_bbox(img_path, json_path)"
   ]
  },
  {
   "cell_type": "code",
   "execution_count": null,
   "id": "8676b0e6",
   "metadata": {},
   "outputs": [],
   "source": [
    "# kaggle dataset transform to 000000-111111 version\n",
    "def transform_kaggle_dataset():\n"
   ]
  },
  {
   "cell_type": "code",
   "execution_count": 42,
   "id": "fcf731ed",
   "metadata": {},
   "outputs": [
    {
     "name": "stdout",
     "output_type": "stream",
     "text": [
      "A\n",
      "B\n",
      "C\n",
      "D\n",
      "E\n",
      "F\n",
      "G\n",
      "H\n",
      "I\n",
      "J\n",
      "K\n",
      "L\n",
      "M\n",
      "N\n",
      "O\n",
      "P\n",
      "Q\n",
      "R\n",
      "S\n",
      "T\n",
      "U\n",
      "V\n",
      "W\n",
      "X\n",
      "Y\n",
      "Z\n"
     ]
    }
   ],
   "source": [
    "with open(\"./utils/alphabet_map.json\", \"r\") as f:\n",
    "        alphabet_map = json.load(f)\n",
    "classes = \"ABCDEFGHIJKLMNOPQRSTUVWXYZ\"\n",
    "target_dir = \"./cropped_images/braille_classification_kaggle\"\n",
    "if not os.path.exists(target_dir):\n",
    "        os.makedirs(target_dir)\n",
    "for class_name in classes:\n",
    "    label = alphabet_map[class_name.lower()]\n",
    "    print(class_name)\n",
    "    # get all images with the same name\n",
    "    images = glob(os.path.join(\"../dataset/KaggleDataset\", class_name, \"*.jpg\"))\n",
    "    for img_path in images:\n",
    "        if \"rot\" in img_path:\n",
    "             continue\n",
    "        crop_img = cv2.imread(img_path)\n",
    "        # img_path basename + coordinate + label\n",
    "        save_path = os.path.join(\n",
    "            target_dir,\n",
    "            os.path.basename(img_path).replace(\".jpg\", \"\")\n",
    "            + \"_\"\n",
    "            + label\n",
    "            + \".jpg\",\n",
    "        )\n",
    "        try:\n",
    "            cv2.imwrite(save_path,crop_img)\n",
    "        except:\n",
    "            print(\"error: \", save_path)\n",
    "            continue"
   ]
  }
 ],
 "metadata": {
  "kernelspec": {
   "display_name": "Python 3",
   "language": "python",
   "name": "python3"
  },
  "language_info": {
   "codemirror_mode": {
    "name": "ipython",
    "version": 3
   },
   "file_extension": ".py",
   "mimetype": "text/x-python",
   "name": "python",
   "nbconvert_exporter": "python",
   "pygments_lexer": "ipython3",
   "version": "3.12.5"
  }
 },
 "nbformat": 4,
 "nbformat_minor": 5
}
