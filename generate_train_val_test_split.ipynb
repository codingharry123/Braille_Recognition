{
 "cells": [
  {
   "cell_type": "code",
   "execution_count": 1,
   "id": "43a9ef63",
   "metadata": {},
   "outputs": [],
   "source": [
    "import os\n",
    "import glob"
   ]
  },
  {
   "cell_type": "code",
   "execution_count": 2,
   "id": "dbbc3933",
   "metadata": {},
   "outputs": [],
   "source": [
    "datasets = os.listdir(\"dataset\")"
   ]
  },
  {
   "cell_type": "code",
   "execution_count": 3,
   "id": "d146745b",
   "metadata": {},
   "outputs": [
    {
     "name": "stdout",
     "output_type": "stream",
     "text": [
      "Train size: 70\n",
      "Val size: 10\n",
      "Test size: 20\n"
     ]
    }
   ],
   "source": [
    "import random\n",
    "\n",
    "def split_list(data, train_ratio=0.7, val_ratio=0.1, test_ratio=0.2):\n",
    "    if not abs(train_ratio + val_ratio + test_ratio - 1.0) < 1e-6:\n",
    "        raise ValueError(\"Ratios must sum to 1.\")\n",
    "    \n",
    "    random.shuffle(data)\n",
    "    total = len(data)\n",
    "    \n",
    "    train_end = int(total * train_ratio)\n",
    "    val_end = train_end + int(total * val_ratio)\n",
    "    \n",
    "    train = data[:train_end]\n",
    "    val = data[train_end:val_end]\n",
    "    test = data[val_end:]\n",
    "    \n",
    "    return train, val, test\n",
    "\n",
    "# Example usage:\n",
    "my_list = list(range(100))  # Replace with your actual list\n",
    "train, val, test = split_list(my_list)\n",
    "\n",
    "print(f\"Train size: {len(train)}\")\n",
    "print(f\"Val size: {len(val)}\")\n",
    "print(f\"Test size: {len(test)}\")"
   ]
  },
  {
   "cell_type": "code",
   "execution_count": 4,
   "id": "cc6bfc55",
   "metadata": {},
   "outputs": [],
   "source": [
    "train_sets = []\n",
    "val_sets = []\n",
    "test_sets = []"
   ]
  },
  {
   "cell_type": "code",
   "execution_count": 5,
   "id": "7804f76a",
   "metadata": {},
   "outputs": [],
   "source": [
    "for dataset in datasets:\n",
    "    dataset_path = os.path.join(\"dataset\",dataset,\"cropped_images\")\n",
    "    current_images = glob.glob(os.path.join(dataset_path, \"*.jpg\"))\n",
    "    current_train, current_val, current_test = split_list(current_images)\n",
    "    current_train = [os.path.join(dataset_path, img).replace(\"\\\\\",\"/\") for img in current_train]\n",
    "    current_val = [os.path.join(dataset_path, img).replace(\"\\\\\",\"/\") for img in current_val]\n",
    "    current_test = [os.path.join(dataset_path, img).replace(\"\\\\\",\"/\") for img in current_test]\n",
    "    train_sets.extend(current_train)\n",
    "    val_sets.extend(current_val)\n",
    "    test_sets.extend(current_test)"
   ]
  },
  {
   "cell_type": "code",
   "execution_count": 6,
   "id": "f1d0dc2d",
   "metadata": {},
   "outputs": [
    {
     "name": "stdout",
     "output_type": "stream",
     "text": [
      "len(train_sets): 64226\n",
      "len(val_sets): 9175\n",
      "len(test_sets): 18352\n"
     ]
    }
   ],
   "source": [
    "print(\"len(train_sets):\",len(train_sets))\n",
    "print(\"len(val_sets):\",len(val_sets))   \n",
    "print(\"len(test_sets):\",len(test_sets))"
   ]
  },
  {
   "cell_type": "code",
   "execution_count": 7,
   "id": "9610b83f",
   "metadata": {},
   "outputs": [],
   "source": [
    "def get_img_label(file):\n",
    "    basename = os.path.basename(file)\n",
    "    basename = basename.split(\"_\")[-1]\n",
    "    basename = basename.split(\".\")[0]\n",
    "    try:\n",
    "        label = [int(c) for c in basename]\n",
    "        return label\n",
    "    except:\n",
    "        print(\"Error in file:\",file)\n",
    "        return [0,0,0,0,0,0]"
   ]
  },
  {
   "cell_type": "code",
   "execution_count": 8,
   "id": "20a23119",
   "metadata": {},
   "outputs": [],
   "source": [
    "# for each image in dataset, save the image path and its label in a cvs file\n",
    "import pandas as pd\n",
    "import csv\n",
    "import numpy as np\n",
    "def save_to_csv(image_paths, output_csv):\n",
    "    # Create a DataFrame\n",
    "    df = pd.DataFrame(image_paths, columns=['image_path'])\n",
    "    # Add labels\n",
    "    df['label'] = df['image_path'].apply(get_img_label)\n",
    "    # Save to CSV\n",
    "    df.to_csv(output_csv, index=False)\n",
    "\n",
    "# Save train, val, test sets to CSV files\n",
    "train_csv_path = \"train.csv\"\n",
    "val_csv_path = \"val.csv\"\n",
    "test_csv_path = \"test.csv\"\n",
    "save_to_csv(train_sets, train_csv_path)\n",
    "save_to_csv(val_sets, val_csv_path)\n",
    "save_to_csv(test_sets, test_csv_path)"
   ]
  }
 ],
 "metadata": {
  "kernelspec": {
   "display_name": "Python 3",
   "language": "python",
   "name": "python3"
  },
  "language_info": {
   "codemirror_mode": {
    "name": "ipython",
    "version": 3
   },
   "file_extension": ".py",
   "mimetype": "text/x-python",
   "name": "python",
   "nbconvert_exporter": "python",
   "pygments_lexer": "ipython3",
   "version": "3.12.5"
  }
 },
 "nbformat": 4,
 "nbformat_minor": 5
}
